{
 "cells": [
  {
   "cell_type": "markdown",
   "id": "db940c53",
   "metadata": {},
   "source": [
    "# N-Queens Problem"
   ]
  },
  {
   "cell_type": "markdown",
   "id": "43f73c01",
   "metadata": {},
   "source": [
    "The n-queens problem is a classic combinatorial puzzle and mathematical challenge. It involves placing n chess queens on an n×n chessboard in such a way that no two queens threaten each other. In other words, no two queens should share the same row, column, or diagonal. The challenge becomes increasingly complex as the size of the board (n) increases, and finding a solution for larger values of n can be quite intricate. The n-queens problem has applications in various fields such as computer science, optimization, and artificial intelligence, serving as a fundamental example for testing algorithms and problem-solving techniques."
   ]
  },
  {
   "cell_type": "markdown",
   "id": "74a4968c",
   "metadata": {},
   "source": [
    "### The n-queens problem (works for both  4 and 8 queens problem)"
   ]
  },
  {
   "cell_type": "code",
   "execution_count": 1,
   "id": "4de9a943",
   "metadata": {},
   "outputs": [
    {
     "name": "stdout",
     "output_type": "stream",
     "text": [
      "Enter the number of queens ? 8\n",
      "\n",
      "________________________________________\n",
      "| Q |    |    |    |    |    |    |    |\n",
      "________________________________________\n",
      "|    |    |    |    | Q |    |    |    |\n",
      "________________________________________\n",
      "|    |    |    |    |    |    |    | Q |\n",
      "________________________________________\n",
      "|    |    |    |    |    | Q |    |    |\n",
      "________________________________________\n",
      "|    |    | Q |    |    |    |    |    |\n",
      "________________________________________\n",
      "|    |    |    |    |    |    | Q |    |\n",
      "________________________________________\n",
      "|    | Q |    |    |    |    |    |    |\n",
      "________________________________________\n",
      "|    |    |    | Q |    |    |    |    |\n",
      "________________________________________"
     ]
    }
   ],
   "source": [
    "# Initializing the variables\n",
    "def start(n): \n",
    "   for key in ['queen','row','colm','first_diagnoal','second_diagonal']: \n",
    "     chess_table[key] = {}\n",
    "   for i in range(n):\n",
    "     chess_table['queen'][i] = -1\n",
    "     chess_table['row'][i] = 0\n",
    "     chess_table['colm'][i] = 0\n",
    "   for i in range(-(n-1),n):\n",
    "     chess_table['first_diagnoal'][i] = 0\n",
    "   for i in range(2*n-1):\n",
    "     chess_table['second_diagonal'][i] = 0\n",
    "\n",
    "# Displaying the chess table or queens\n",
    "def show_queen(): \n",
    "   l = len(chess_table['queen'].keys())\n",
    "   for row in sorted(chess_table['queen'].keys()):\n",
    "     print(\"\")\n",
    "     for j in range(l):\n",
    "         print(\"_____\",end=\"\")\n",
    "     print(\"\\n|\",end =\"\")\n",
    "     for i in range(l):\n",
    "         if i == chess_table['queen'][row]:\n",
    "             print(\" Q |\",end=\"\")\n",
    "         else:\n",
    "             print(\"    |\",end=\"\")\n",
    "   print(\"\")\n",
    "   for j in range(l):\n",
    "         print(\"_____\",end=\"\")\n",
    "\n",
    "# Checking if a position is empty\n",
    "def check_empty(i,j):\n",
    "   return(chess_table['row'][i] == 0 and chess_table['colm'][j] == 0 and chess_table['first_diagnoal'][j-i] == 0 and chess_table['second_diagonal'][j+i] == 0)\n",
    "\n",
    "# Placing the queen in the empty position\n",
    "def place(i,j):\n",
    "   chess_table['queen'][i] = j\n",
    "   chess_table['row'][i] = 1\n",
    "   chess_table['colm'][j] = 1\n",
    "   chess_table['first_diagnoal'][j-i] = 1\n",
    "   chess_table['second_diagonal'][j+i] = 1\n",
    "\n",
    "#Removing the queen if no further move to make\n",
    "def backtrack(i,j):\n",
    "   chess_table['queen'][i] = -1\n",
    "   chess_table['row'][i] = 0\n",
    "   chess_table['colm'][j] = 0\n",
    "   chess_table['first_diagnoal'][j-i] = 0\n",
    "   chess_table['second_diagonal'][j+i] = 0\n",
    "\n",
    "# Updating the chess table, such that we add a queen if empty and backtrack if no further move\n",
    "def min_coflict(i):\n",
    "   n = len(chess_table['queen'].keys())\n",
    "   for j in range(n):\n",
    "     if check_empty(i,j):\n",
    "       place(i,j)\n",
    "       if i == n-1:\n",
    "         return(True)\n",
    "       else:\n",
    "         check_further = min_coflict(i+1)\n",
    "       if check_further:\n",
    "         return(True)\n",
    "       else:\n",
    "         backtrack(i,j)\n",
    "   else:\n",
    "     return(False)\n",
    "\n",
    "chess_table = {}\n",
    "n = int(input(\"Enter the number of queens ? \"))\n",
    "start(n)\n",
    "if min_coflict(0):\n",
    "    show_queen()\n",
    "else:\n",
    "    print (\"Not possible; Enter another number. \")"
   ]
  },
  {
   "cell_type": "markdown",
   "id": "69903b67",
   "metadata": {},
   "source": [
    "#### The End "
   ]
  }
 ],
 "metadata": {
  "kernelspec": {
   "display_name": "Python 3 (ipykernel)",
   "language": "python",
   "name": "python3"
  },
  "language_info": {
   "codemirror_mode": {
    "name": "ipython",
    "version": 3
   },
   "file_extension": ".py",
   "mimetype": "text/x-python",
   "name": "python",
   "nbconvert_exporter": "python",
   "pygments_lexer": "ipython3",
   "version": "3.9.7"
  }
 },
 "nbformat": 4,
 "nbformat_minor": 5
}
